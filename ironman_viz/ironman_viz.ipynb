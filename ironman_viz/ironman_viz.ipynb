{
 "cells": [
  {
   "cell_type": "code",
   "execution_count": 1,
   "id": "d9c0e27c-3d7a-44fe-bce2-56425372c764",
   "metadata": {},
   "outputs": [],
   "source": [
    "import matplotlib.pyplot as plt\n",
    "import numpy as  np\n",
    "import pandas as pd"
   ]
  },
  {
   "cell_type": "code",
   "execution_count": 3,
   "id": "dd74dcb5-234e-4064-9e19-552f44a10141",
   "metadata": {},
   "outputs": [
    {
     "data": {
      "text/html": [
       "<div>\n",
       "<style scoped>\n",
       "    .dataframe tbody tr th:only-of-type {\n",
       "        vertical-align: middle;\n",
       "    }\n",
       "\n",
       "    .dataframe tbody tr th {\n",
       "        vertical-align: top;\n",
       "    }\n",
       "\n",
       "    .dataframe thead th {\n",
       "        text-align: right;\n",
       "    }\n",
       "</style>\n",
       "<table border=\"1\" class=\"dataframe\">\n",
       "  <thead>\n",
       "    <tr style=\"text-align: right;\">\n",
       "      <th></th>\n",
       "      <th>Gender</th>\n",
       "      <th>AgeGroup</th>\n",
       "      <th>AgeBand</th>\n",
       "      <th>Country</th>\n",
       "      <th>CountryISO2</th>\n",
       "      <th>EventYear</th>\n",
       "      <th>EventLocation</th>\n",
       "      <th>SwimTime</th>\n",
       "      <th>Transition1Time</th>\n",
       "      <th>BikeTime</th>\n",
       "      <th>Transition2Time</th>\n",
       "      <th>RunTime</th>\n",
       "      <th>FinishTime</th>\n",
       "    </tr>\n",
       "  </thead>\n",
       "  <tbody>\n",
       "    <tr>\n",
       "      <th>0</th>\n",
       "      <td>M</td>\n",
       "      <td>40-44</td>\n",
       "      <td>40</td>\n",
       "      <td>Andorra</td>\n",
       "      <td>AD</td>\n",
       "      <td>2019</td>\n",
       "      <td>IRONMAN 70.3 South American Championship Bueno...</td>\n",
       "      <td>1679</td>\n",
       "      <td>119</td>\n",
       "      <td>9107</td>\n",
       "      <td>95</td>\n",
       "      <td>5515</td>\n",
       "      <td>16514</td>\n",
       "    </tr>\n",
       "    <tr>\n",
       "      <th>1</th>\n",
       "      <td>M</td>\n",
       "      <td>45-49</td>\n",
       "      <td>45</td>\n",
       "      <td>Andorra</td>\n",
       "      <td>AD</td>\n",
       "      <td>2019</td>\n",
       "      <td>IRONMAN 70.3 South American Championship Bueno...</td>\n",
       "      <td>2070</td>\n",
       "      <td>177</td>\n",
       "      <td>9160</td>\n",
       "      <td>132</td>\n",
       "      <td>6070</td>\n",
       "      <td>17609</td>\n",
       "    </tr>\n",
       "    <tr>\n",
       "      <th>2</th>\n",
       "      <td>M</td>\n",
       "      <td>45-49</td>\n",
       "      <td>45</td>\n",
       "      <td>Andorra</td>\n",
       "      <td>AD</td>\n",
       "      <td>2020</td>\n",
       "      <td>IRONMAN 70.3 Bariloche</td>\n",
       "      <td>1667</td>\n",
       "      <td>161</td>\n",
       "      <td>9891</td>\n",
       "      <td>122</td>\n",
       "      <td>5190</td>\n",
       "      <td>17031</td>\n",
       "    </tr>\n",
       "    <tr>\n",
       "      <th>3</th>\n",
       "      <td>M</td>\n",
       "      <td>45-49</td>\n",
       "      <td>45</td>\n",
       "      <td>Andorra</td>\n",
       "      <td>AD</td>\n",
       "      <td>2019</td>\n",
       "      <td>IRONMAN 70.3 World Championship</td>\n",
       "      <td>1750</td>\n",
       "      <td>183</td>\n",
       "      <td>10363</td>\n",
       "      <td>160</td>\n",
       "      <td>5071</td>\n",
       "      <td>17527</td>\n",
       "    </tr>\n",
       "    <tr>\n",
       "      <th>4</th>\n",
       "      <td>M</td>\n",
       "      <td>40-44</td>\n",
       "      <td>40</td>\n",
       "      <td>Andorra</td>\n",
       "      <td>AD</td>\n",
       "      <td>2019</td>\n",
       "      <td>IRONMAN 70.3 World Championship</td>\n",
       "      <td>2063</td>\n",
       "      <td>182</td>\n",
       "      <td>10065</td>\n",
       "      <td>142</td>\n",
       "      <td>5556</td>\n",
       "      <td>18008</td>\n",
       "    </tr>\n",
       "  </tbody>\n",
       "</table>\n",
       "</div>"
      ],
      "text/plain": [
       "  Gender AgeGroup  AgeBand  Country CountryISO2  EventYear  \\\n",
       "0      M    40-44       40  Andorra          AD       2019   \n",
       "1      M    45-49       45  Andorra          AD       2019   \n",
       "2      M    45-49       45  Andorra          AD       2020   \n",
       "3      M    45-49       45  Andorra          AD       2019   \n",
       "4      M    40-44       40  Andorra          AD       2019   \n",
       "\n",
       "                                       EventLocation  SwimTime  \\\n",
       "0  IRONMAN 70.3 South American Championship Bueno...      1679   \n",
       "1  IRONMAN 70.3 South American Championship Bueno...      2070   \n",
       "2                             IRONMAN 70.3 Bariloche      1667   \n",
       "3                    IRONMAN 70.3 World Championship      1750   \n",
       "4                    IRONMAN 70.3 World Championship      2063   \n",
       "\n",
       "   Transition1Time  BikeTime  Transition2Time  RunTime  FinishTime  \n",
       "0              119      9107               95     5515       16514  \n",
       "1              177      9160              132     6070       17609  \n",
       "2              161      9891              122     5190       17031  \n",
       "3              183     10363              160     5071       17527  \n",
       "4              182     10065              142     5556       18008  "
      ]
     },
     "execution_count": 3,
     "metadata": {},
     "output_type": "execute_result"
    }
   ],
   "source": [
    "df = pd.read_csv(\"Half_Ironman_df6.csv\")\n",
    "df.head()"
   ]
  },
  {
   "cell_type": "code",
   "execution_count": 4,
   "id": "fa789c4f-3734-4649-95b3-c000b841d17f",
   "metadata": {},
   "outputs": [
    {
     "name": "stdout",
     "output_type": "stream",
     "text": [
      "<class 'pandas.core.frame.DataFrame'>\n",
      "RangeIndex: 840075 entries, 0 to 840074\n",
      "Data columns (total 13 columns):\n",
      " #   Column           Non-Null Count   Dtype \n",
      "---  ------           --------------   ----- \n",
      " 0   Gender           840075 non-null  object\n",
      " 1   AgeGroup         840075 non-null  object\n",
      " 2   AgeBand          840075 non-null  int64 \n",
      " 3   Country          840075 non-null  object\n",
      " 4   CountryISO2      840075 non-null  object\n",
      " 5   EventYear        840075 non-null  int64 \n",
      " 6   EventLocation    840075 non-null  object\n",
      " 7   SwimTime         840075 non-null  int64 \n",
      " 8   Transition1Time  840075 non-null  int64 \n",
      " 9   BikeTime         840075 non-null  int64 \n",
      " 10  Transition2Time  840075 non-null  int64 \n",
      " 11  RunTime          840075 non-null  int64 \n",
      " 12  FinishTime       840075 non-null  int64 \n",
      "dtypes: int64(8), object(5)\n",
      "memory usage: 83.3+ MB\n"
     ]
    }
   ],
   "source": [
    "df.info()"
   ]
  },
  {
   "cell_type": "code",
   "execution_count": 6,
   "id": "3e9d5341-e28c-474f-a4fd-88f66aa00150",
   "metadata": {},
   "outputs": [
    {
     "data": {
      "text/html": [
       "<div>\n",
       "<style scoped>\n",
       "    .dataframe tbody tr th:only-of-type {\n",
       "        vertical-align: middle;\n",
       "    }\n",
       "\n",
       "    .dataframe tbody tr th {\n",
       "        vertical-align: top;\n",
       "    }\n",
       "\n",
       "    .dataframe thead th {\n",
       "        text-align: right;\n",
       "    }\n",
       "</style>\n",
       "<table border=\"1\" class=\"dataframe\">\n",
       "  <thead>\n",
       "    <tr style=\"text-align: right;\">\n",
       "      <th></th>\n",
       "      <th>AgeBand</th>\n",
       "      <th>EventYear</th>\n",
       "      <th>SwimTime</th>\n",
       "      <th>Transition1Time</th>\n",
       "      <th>BikeTime</th>\n",
       "      <th>Transition2Time</th>\n",
       "      <th>RunTime</th>\n",
       "      <th>FinishTime</th>\n",
       "    </tr>\n",
       "  </thead>\n",
       "  <tbody>\n",
       "    <tr>\n",
       "      <th>count</th>\n",
       "      <td>840075.000000</td>\n",
       "      <td>840075.000000</td>\n",
       "      <td>840075.000000</td>\n",
       "      <td>840075.000000</td>\n",
       "      <td>840075.000000</td>\n",
       "      <td>840075.000000</td>\n",
       "      <td>840075.000000</td>\n",
       "      <td>840075.000000</td>\n",
       "    </tr>\n",
       "    <tr>\n",
       "      <th>mean</th>\n",
       "      <td>36.904936</td>\n",
       "      <td>2015.113096</td>\n",
       "      <td>2340.250398</td>\n",
       "      <td>286.679245</td>\n",
       "      <td>10675.310285</td>\n",
       "      <td>219.786933</td>\n",
       "      <td>7606.965184</td>\n",
       "      <td>21129.008952</td>\n",
       "    </tr>\n",
       "    <tr>\n",
       "      <th>std</th>\n",
       "      <td>10.837156</td>\n",
       "      <td>3.176755</td>\n",
       "      <td>486.450902</td>\n",
       "      <td>98.416839</td>\n",
       "      <td>1397.954592</td>\n",
       "      <td>94.242916</td>\n",
       "      <td>1588.104360</td>\n",
       "      <td>3076.234712</td>\n",
       "    </tr>\n",
       "    <tr>\n",
       "      <th>min</th>\n",
       "      <td>0.000000</td>\n",
       "      <td>2004.000000</td>\n",
       "      <td>1201.000000</td>\n",
       "      <td>46.000000</td>\n",
       "      <td>6511.000000</td>\n",
       "      <td>46.000000</td>\n",
       "      <td>4002.000000</td>\n",
       "      <td>13004.000000</td>\n",
       "    </tr>\n",
       "    <tr>\n",
       "      <th>25%</th>\n",
       "      <td>30.000000</td>\n",
       "      <td>2013.000000</td>\n",
       "      <td>2010.000000</td>\n",
       "      <td>211.000000</td>\n",
       "      <td>9682.000000</td>\n",
       "      <td>147.000000</td>\n",
       "      <td>6440.000000</td>\n",
       "      <td>18919.000000</td>\n",
       "    </tr>\n",
       "    <tr>\n",
       "      <th>50%</th>\n",
       "      <td>35.000000</td>\n",
       "      <td>2016.000000</td>\n",
       "      <td>2286.000000</td>\n",
       "      <td>280.000000</td>\n",
       "      <td>10503.000000</td>\n",
       "      <td>205.000000</td>\n",
       "      <td>7362.000000</td>\n",
       "      <td>20839.000000</td>\n",
       "    </tr>\n",
       "    <tr>\n",
       "      <th>75%</th>\n",
       "      <td>45.000000</td>\n",
       "      <td>2018.000000</td>\n",
       "      <td>2604.000000</td>\n",
       "      <td>359.000000</td>\n",
       "      <td>11483.000000</td>\n",
       "      <td>279.000000</td>\n",
       "      <td>8544.000000</td>\n",
       "      <td>23052.000000</td>\n",
       "    </tr>\n",
       "    <tr>\n",
       "      <th>max</th>\n",
       "      <td>85.000000</td>\n",
       "      <td>2020.000000</td>\n",
       "      <td>5997.000000</td>\n",
       "      <td>499.000000</td>\n",
       "      <td>17993.000000</td>\n",
       "      <td>499.000000</td>\n",
       "      <td>14999.000000</td>\n",
       "      <td>36529.000000</td>\n",
       "    </tr>\n",
       "  </tbody>\n",
       "</table>\n",
       "</div>"
      ],
      "text/plain": [
       "             AgeBand      EventYear       SwimTime  Transition1Time  \\\n",
       "count  840075.000000  840075.000000  840075.000000    840075.000000   \n",
       "mean       36.904936    2015.113096    2340.250398       286.679245   \n",
       "std        10.837156       3.176755     486.450902        98.416839   \n",
       "min         0.000000    2004.000000    1201.000000        46.000000   \n",
       "25%        30.000000    2013.000000    2010.000000       211.000000   \n",
       "50%        35.000000    2016.000000    2286.000000       280.000000   \n",
       "75%        45.000000    2018.000000    2604.000000       359.000000   \n",
       "max        85.000000    2020.000000    5997.000000       499.000000   \n",
       "\n",
       "            BikeTime  Transition2Time        RunTime     FinishTime  \n",
       "count  840075.000000    840075.000000  840075.000000  840075.000000  \n",
       "mean    10675.310285       219.786933    7606.965184   21129.008952  \n",
       "std      1397.954592        94.242916    1588.104360    3076.234712  \n",
       "min      6511.000000        46.000000    4002.000000   13004.000000  \n",
       "25%      9682.000000       147.000000    6440.000000   18919.000000  \n",
       "50%     10503.000000       205.000000    7362.000000   20839.000000  \n",
       "75%     11483.000000       279.000000    8544.000000   23052.000000  \n",
       "max     17993.000000       499.000000   14999.000000   36529.000000  "
      ]
     },
     "execution_count": 6,
     "metadata": {},
     "output_type": "execute_result"
    }
   ],
   "source": [
    "df.describe()"
   ]
  },
  {
   "cell_type": "code",
   "execution_count": 7,
   "id": "65dc0692-c731-464d-b215-f6d12a1b70cc",
   "metadata": {},
   "outputs": [
    {
     "data": {
      "text/plain": [
       "array([[<Axes: title={'center': 'AgeBand'}>,\n",
       "        <Axes: title={'center': 'EventYear'}>,\n",
       "        <Axes: title={'center': 'SwimTime'}>],\n",
       "       [<Axes: title={'center': 'Transition1Time'}>,\n",
       "        <Axes: title={'center': 'BikeTime'}>,\n",
       "        <Axes: title={'center': 'Transition2Time'}>],\n",
       "       [<Axes: title={'center': 'RunTime'}>,\n",
       "        <Axes: title={'center': 'FinishTime'}>, <Axes: >]], dtype=object)"
      ]
     },
     "execution_count": 7,
     "metadata": {},
     "output_type": "execute_result"
    },
    {
     "data": {
      "image/png": "[encoded data removed]",
      "text/plain": [
       "<Figure size 640x480 with 9 Axes>"
      ]
     },
     "metadata": {},
     "output_type": "display_data"
    }
   ],
   "source": [
    "df.hist()"
   ]
  },
  {
   "cell_type": "code",
   "execution_count": 11,
   "id": "d02d87ce-afcf-45b5-b0d9-3699070fb9f3",
   "metadata": {},
   "outputs": [
    {
     "data": {
      "text/plain": [
       "195"
      ]
     },
     "execution_count": 11,
     "metadata": {},
     "output_type": "execute_result"
    }
   ],
   "source": [
    "# how many different races?\n",
    "events = df[\"EventLocation\"].unique()\n",
    "len(events)"
   ]
  },
  {
   "cell_type": "code",
   "execution_count": 47,
   "id": "02352082-9717-4a42-9fe5-210c0adde2af",
   "metadata": {},
   "outputs": [
    {
     "data": {
      "text/html": [
       "<div>\n",
       "<style scoped>\n",
       "    .dataframe tbody tr th:only-of-type {\n",
       "        vertical-align: middle;\n",
       "    }\n",
       "\n",
       "    .dataframe tbody tr th {\n",
       "        vertical-align: top;\n",
       "    }\n",
       "\n",
       "    .dataframe thead th {\n",
       "        text-align: right;\n",
       "    }\n",
       "</style>\n",
       "<table border=\"1\" class=\"dataframe\">\n",
       "  <thead>\n",
       "    <tr style=\"text-align: right;\">\n",
       "      <th></th>\n",
       "      <th></th>\n",
       "      <th>AthletesCount</th>\n",
       "    </tr>\n",
       "    <tr>\n",
       "      <th>EventLocation</th>\n",
       "      <th>EventYear</th>\n",
       "      <th></th>\n",
       "    </tr>\n",
       "  </thead>\n",
       "  <tbody>\n",
       "    <tr>\n",
       "      <th rowspan=\"2\" valign=\"top\">IRONMAN 70.3 Aarhus</th>\n",
       "      <th>2014</th>\n",
       "      <td>1115</td>\n",
       "    </tr>\n",
       "    <tr>\n",
       "      <th>2015</th>\n",
       "      <td>225</td>\n",
       "    </tr>\n",
       "    <tr>\n",
       "      <th rowspan=\"2\" valign=\"top\">IRONMAN 70.3 Alagoas</th>\n",
       "      <th>2017</th>\n",
       "      <td>717</td>\n",
       "    </tr>\n",
       "    <tr>\n",
       "      <th>2019</th>\n",
       "      <td>1004</td>\n",
       "    </tr>\n",
       "    <tr>\n",
       "      <th>IRONMAN 70.3 Arizona</th>\n",
       "      <th>2015</th>\n",
       "      <td>1049</td>\n",
       "    </tr>\n",
       "  </tbody>\n",
       "</table>\n",
       "</div>"
      ],
      "text/plain": [
       "                                AthletesCount\n",
       "EventLocation        EventYear               \n",
       "IRONMAN 70.3 Aarhus  2014                1115\n",
       "                     2015                 225\n",
       "IRONMAN 70.3 Alagoas 2017                 717\n",
       "                     2019                1004\n",
       "IRONMAN 70.3 Arizona 2015                1049"
      ]
     },
     "execution_count": 47,
     "metadata": {},
     "output_type": "execute_result"
    }
   ],
   "source": [
    "df_events = (\n",
    "    df[[\"FinishTime\", \"EventYear\", \"EventLocation\"]]\n",
    "    .groupby([\"EventLocation\", \"EventYear\"])\n",
    "    .count()\n",
    "    .rename(columns={\"FinishTime\": \"AthletesCount\"})\n",
    ")\n",
    "df_events.head()"
   ]
  },
  {
   "cell_type": "code",
   "execution_count": 51,
   "id": "ec3160d3-b8ae-481c-ab4d-95d5b92ce610",
   "metadata": {},
   "outputs": [],
   "source": [
    "# to restore EventLocation and EventYear as columns\n",
    "# df_events.reset_index()"
   ]
  },
  {
   "cell_type": "code",
   "execution_count": 49,
   "id": "d060a0f3-a88a-4b2d-be0d-0b110478b9a0",
   "metadata": {},
   "outputs": [
    {
     "data": {
      "text/html": [
       "<div>\n",
       "<style scoped>\n",
       "    .dataframe tbody tr th:only-of-type {\n",
       "        vertical-align: middle;\n",
       "    }\n",
       "\n",
       "    .dataframe tbody tr th {\n",
       "        vertical-align: top;\n",
       "    }\n",
       "\n",
       "    .dataframe thead th {\n",
       "        text-align: right;\n",
       "    }\n",
       "</style>\n",
       "<table border=\"1\" class=\"dataframe\">\n",
       "  <thead>\n",
       "    <tr style=\"text-align: right;\">\n",
       "      <th></th>\n",
       "      <th></th>\n",
       "      <th>AthletesCount</th>\n",
       "    </tr>\n",
       "    <tr>\n",
       "      <th>EventLocation</th>\n",
       "      <th>EventYear</th>\n",
       "      <th></th>\n",
       "    </tr>\n",
       "  </thead>\n",
       "  <tbody>\n",
       "    <tr>\n",
       "      <th rowspan=\"2\" valign=\"top\">IRONMAN 70.3 Aarhus</th>\n",
       "      <th>2014</th>\n",
       "      <td>1115</td>\n",
       "    </tr>\n",
       "    <tr>\n",
       "      <th>2015</th>\n",
       "      <td>225</td>\n",
       "    </tr>\n",
       "    <tr>\n",
       "      <th rowspan=\"2\" valign=\"top\">IRONMAN 70.3 Alagoas</th>\n",
       "      <th>2017</th>\n",
       "      <td>717</td>\n",
       "    </tr>\n",
       "    <tr>\n",
       "      <th>2019</th>\n",
       "      <td>1004</td>\n",
       "    </tr>\n",
       "    <tr>\n",
       "      <th>IRONMAN 70.3 Arizona</th>\n",
       "      <th>2015</th>\n",
       "      <td>1049</td>\n",
       "    </tr>\n",
       "  </tbody>\n",
       "</table>\n",
       "</div>"
      ],
      "text/plain": [
       "                                AthletesCount\n",
       "EventLocation        EventYear               \n",
       "IRONMAN 70.3 Aarhus  2014                1115\n",
       "                     2015                 225\n",
       "IRONMAN 70.3 Alagoas 2017                 717\n",
       "                     2019                1004\n",
       "IRONMAN 70.3 Arizona 2015                1049"
      ]
     },
     "execution_count": 49,
     "metadata": {},
     "output_type": "execute_result"
    }
   ],
   "source": [
    "df_events.head()"
   ]
  },
  {
   "cell_type": "code",
   "execution_count": 34,
   "id": "423ce3ed-233f-410a-ba7b-a7be1c703d7b",
   "metadata": {},
   "outputs": [
    {
     "name": "stdout",
     "output_type": "stream",
     "text": [
      "Number of events:  773\n"
     ]
    }
   ],
   "source": [
    "print(\"Number of events: \", df_events.shape[0])"
   ]
  },
  {
   "cell_type": "code",
   "execution_count": 30,
   "id": "6f489e84-63a2-43b0-9729-1865ca926f5c",
   "metadata": {},
   "outputs": [
    {
     "data": {
      "text/html": [
       "<div>\n",
       "<style scoped>\n",
       "    .dataframe tbody tr th:only-of-type {\n",
       "        vertical-align: middle;\n",
       "    }\n",
       "\n",
       "    .dataframe tbody tr th {\n",
       "        vertical-align: top;\n",
       "    }\n",
       "\n",
       "    .dataframe thead th {\n",
       "        text-align: right;\n",
       "    }\n",
       "</style>\n",
       "<table border=\"1\" class=\"dataframe\">\n",
       "  <thead>\n",
       "    <tr style=\"text-align: right;\">\n",
       "      <th></th>\n",
       "      <th>AthletesCount</th>\n",
       "    </tr>\n",
       "  </thead>\n",
       "  <tbody>\n",
       "    <tr>\n",
       "      <th>count</th>\n",
       "      <td>773.000000</td>\n",
       "    </tr>\n",
       "    <tr>\n",
       "      <th>mean</th>\n",
       "      <td>1086.772316</td>\n",
       "    </tr>\n",
       "    <tr>\n",
       "      <th>std</th>\n",
       "      <td>540.292338</td>\n",
       "    </tr>\n",
       "    <tr>\n",
       "      <th>min</th>\n",
       "      <td>1.000000</td>\n",
       "    </tr>\n",
       "    <tr>\n",
       "      <th>25%</th>\n",
       "      <td>676.000000</td>\n",
       "    </tr>\n",
       "    <tr>\n",
       "      <th>50%</th>\n",
       "      <td>1054.000000</td>\n",
       "    </tr>\n",
       "    <tr>\n",
       "      <th>75%</th>\n",
       "      <td>1453.000000</td>\n",
       "    </tr>\n",
       "    <tr>\n",
       "      <th>max</th>\n",
       "      <td>4854.000000</td>\n",
       "    </tr>\n",
       "  </tbody>\n",
       "</table>\n",
       "</div>"
      ],
      "text/plain": [
       "       AthletesCount\n",
       "count     773.000000\n",
       "mean     1086.772316\n",
       "std       540.292338\n",
       "min         1.000000\n",
       "25%       676.000000\n",
       "50%      1054.000000\n",
       "75%      1453.000000\n",
       "max      4854.000000"
      ]
     },
     "execution_count": 30,
     "metadata": {},
     "output_type": "execute_result"
    }
   ],
   "source": [
    "df_events.describe()"
   ]
  },
  {
   "cell_type": "code",
   "execution_count": 43,
   "id": "754959d8-7327-452e-8634-0bccb017fd02",
   "metadata": {},
   "outputs": [
    {
     "name": "stdout",
     "output_type": "stream",
     "text": [
      "Event with most athletes:  ('IRONMAN 70.3 World Championship', 2019)  with  4854  participants\n",
      "Event with least athletes:  ('IRONMAN 70.3 Pula', 2017)  with  1  participants\n"
     ]
    }
   ],
   "source": [
    "print(\"Event with most athletes: \", df_events.idxmax().values[0],  \" with \", df_events.max().values[0], \" participants\")\n",
    "print(\"Event with least athletes: \", df_events.idxmin().values[0],  \" with \", df_events.min().values[0], \" participants\")"
   ]
  },
  {
   "cell_type": "code",
   "execution_count": 69,
   "id": "243b6b60-501e-49d4-a70b-91d4548c3ec1",
   "metadata": {},
   "outputs": [
    {
     "name": "stdout",
     "output_type": "stream",
     "text": [
      "10 countries with most participants\n"
     ]
    },
    {
     "data": {
      "text/html": [
       "<div>\n",
       "<style scoped>\n",
       "    .dataframe tbody tr th:only-of-type {\n",
       "        vertical-align: middle;\n",
       "    }\n",
       "\n",
       "    .dataframe tbody tr th {\n",
       "        vertical-align: top;\n",
       "    }\n",
       "\n",
       "    .dataframe thead th {\n",
       "        text-align: right;\n",
       "    }\n",
       "</style>\n",
       "<table border=\"1\" class=\"dataframe\">\n",
       "  <thead>\n",
       "    <tr style=\"text-align: right;\">\n",
       "      <th></th>\n",
       "      <th>Country</th>\n",
       "      <th>AthletesCount</th>\n",
       "    </tr>\n",
       "  </thead>\n",
       "  <tbody>\n",
       "    <tr>\n",
       "      <th>0</th>\n",
       "      <td>United States</td>\n",
       "      <td>332037</td>\n",
       "    </tr>\n",
       "    <tr>\n",
       "      <th>1</th>\n",
       "      <td>Australia</td>\n",
       "      <td>59617</td>\n",
       "    </tr>\n",
       "    <tr>\n",
       "      <th>2</th>\n",
       "      <td>Canada</td>\n",
       "      <td>48233</td>\n",
       "    </tr>\n",
       "    <tr>\n",
       "      <th>3</th>\n",
       "      <td>Germany</td>\n",
       "      <td>37159</td>\n",
       "    </tr>\n",
       "    <tr>\n",
       "      <th>4</th>\n",
       "      <td>United Kingdom</td>\n",
       "      <td>36523</td>\n",
       "    </tr>\n",
       "    <tr>\n",
       "      <th>5</th>\n",
       "      <td>Mexico</td>\n",
       "      <td>25535</td>\n",
       "    </tr>\n",
       "    <tr>\n",
       "      <th>6</th>\n",
       "      <td>France</td>\n",
       "      <td>24026</td>\n",
       "    </tr>\n",
       "    <tr>\n",
       "      <th>7</th>\n",
       "      <td>Brazil</td>\n",
       "      <td>21851</td>\n",
       "    </tr>\n",
       "    <tr>\n",
       "      <th>8</th>\n",
       "      <td>South Africa</td>\n",
       "      <td>18376</td>\n",
       "    </tr>\n",
       "    <tr>\n",
       "      <th>9</th>\n",
       "      <td>Italy</td>\n",
       "      <td>13963</td>\n",
       "    </tr>\n",
       "  </tbody>\n",
       "</table>\n",
       "</div>"
      ],
      "text/plain": [
       "          Country  AthletesCount\n",
       "0   United States         332037\n",
       "1       Australia          59617\n",
       "2          Canada          48233\n",
       "3         Germany          37159\n",
       "4  United Kingdom          36523\n",
       "5          Mexico          25535\n",
       "6          France          24026\n",
       "7          Brazil          21851\n",
       "8    South Africa          18376\n",
       "9           Italy          13963"
      ]
     },
     "execution_count": 69,
     "metadata": {},
     "output_type": "execute_result"
    }
   ],
   "source": [
    "# nationalities\n",
    "athletes_by_country = (\n",
    "    df[\"Country\"]\n",
    "    .value_counts()  # count the number of athletes per country\n",
    "    .to_frame()      # convert Series into DataFrame\n",
    "    .reset_index()   # \"Countries\" was an index; move it back\n",
    "    .rename(columns={\"index\": \"Country\", \"Country\": \"AthletesCount\"})\n",
    ")\n",
    "print(\"10 countries with most participants\")\n",
    "athletes_by_country.head(10)"
   ]
  },
  {
   "cell_type": "code",
   "execution_count": 75,
   "id": "6c40c1d4-48ab-48ad-8f78-8871842f708d",
   "metadata": {},
   "outputs": [
    {
     "data": {
      "text/plain": [
       "array([[<Axes: title={'center': 'AgeBand'}>]], dtype=object)"
      ]
     },
     "execution_count": 75,
     "metadata": {},
     "output_type": "execute_result"
    },
    {
     "data": {
      "image/png": "[encoded data removed]",
      "text/plain": [
       "<Figure size 640x480 with 1 Axes>"
      ]
     },
     "metadata": {},
     "output_type": "display_data"
    }
   ],
   "source": [
    "# age groups\n",
    "df.hist(column=\"AgeBand\")"
   ]
  },
  {
   "cell_type": "code",
   "execution_count": 76,
   "id": "98db565f-3bc3-4a75-8f61-523c01aa62ae",
   "metadata": {},
   "outputs": [
    {
     "data": {
      "text/plain": [
       "Index(['Gender', 'AgeGroup', 'AgeBand', 'Country', 'CountryISO2', 'EventYear',\n",
       "       'EventLocation', 'SwimTime', 'Transition1Time', 'BikeTime',\n",
       "       'Transition2Time', 'RunTime', 'FinishTime'],\n",
       "      dtype='object')"
      ]
     },
     "execution_count": 76,
     "metadata": {},
     "output_type": "execute_result"
    }
   ],
   "source": [
    "df.columns"
   ]
  },
  {
   "cell_type": "code",
   "execution_count": 94,
   "id": "80fd02a6-796c-406c-9ed3-98f68b5f66f4",
   "metadata": {},
   "outputs": [],
   "source": [
    "avg_times_per_age_male = (\n",
    "    df[[\"AgeGroup\", \"SwimTime\", 'Transition1Time', 'BikeTime', 'Transition2Time', 'RunTime', 'FinishTime']]\n",
    "    .loc[df[\"Gender\"] == \"M\"]  # male athletes\n",
    "    .groupby([\"AgeGroup\"]).mean()\n",
    ") "
   ]
  },
  {
   "cell_type": "code",
   "execution_count": 97,
   "id": "28266678-b5da-4da6-bcf3-1b9c93b16c42",
   "metadata": {},
   "outputs": [
    {
     "data": {
      "text/plain": [
       "<Axes: xlabel='AgeGroup'>"
      ]
     },
     "execution_count": 97,
     "metadata": {},
     "output_type": "execute_result"
    },
    {
     "data": {
      "image/png": "[encoded data removed]",
      "text/plain": [
       "<Figure size 640x480 with 1 Axes>"
      ]
     },
     "metadata": {},
     "output_type": "display_data"
    }
   ],
   "source": [
    "avg_times_per_age_male.plot()"
   ]
  },
  {
   "cell_type": "code",
   "execution_count": 98,
   "id": "a02b5ff7-b160-4374-9c83-ecdf000c6aa9",
   "metadata": {},
   "outputs": [
    {
     "data": {
      "text/plain": [
       "<Axes: xlabel='AgeGroup'>"
      ]
     },
     "execution_count": 98,
     "metadata": {},
     "output_type": "execute_result"
    },
    {
     "data": {
      "image/png": "[encoded data removed]",
      "text/plain": [
       "<Figure size 640x480 with 1 Axes>"
      ]
     },
     "metadata": {},
     "output_type": "display_data"
    }
   ],
   "source": [
    "avg_times_per_age_female = (\n",
    "    df[[\"AgeGroup\", \"SwimTime\", 'Transition1Time', 'BikeTime', 'Transition2Time', 'RunTime', 'FinishTime']]\n",
    "    .loc[df[\"Gender\"] == \"F\"]  # female athletes\n",
    "    .groupby([\"AgeGroup\"]).mean()\n",
    ") \n",
    "avg_times_per_age_female.plot()"
   ]
  },
  {
   "cell_type": "code",
   "execution_count": 99,
   "id": "accdcbe3-2308-4e2a-9722-5a0e693f5989",
   "metadata": {},
   "outputs": [
    {
     "data": {
      "text/plain": [
       "array(['IRONMAN 70.3 South American Championship Buenos Aires',\n",
       "       'IRONMAN 70.3 Bariloche', 'IRONMAN 70.3 World Championship',\n",
       "       'IRONMAN 70.3 Victoria', 'IRONMAN 70.3 Marrakech',\n",
       "       'IRONMAN 70.3 Santa Cruz', 'IRONMAN 70.3 Dublin',\n",
       "       'IRONMAN 70.3 Taiwan', 'IRONMAN 70.3 Texas',\n",
       "       'IRONMAN 70.3 Mallorca', 'IRONMAN 70.3 Barcelona',\n",
       "       'IRONMAN 70.3 Vichy', 'IRONMAN 70.3 Budapest',\n",
       "       'IRONMAN 70.3 Punta del Este', 'IRONMAN 70.3 Puerto Rico',\n",
       "       'IRONMAN 70.3 Liuzhou', 'IRONMAN 70.3 UK',\n",
       "       \"IRONMAN 70.3 Coeur d'Alene\", 'IRONMAN 70.3 Wisconsin',\n",
       "       'IRONMAN 70.3 Cartagena', 'IRONMAN 70.3 Marbella',\n",
       "       'IRONMAN 70.3 European Championship Elsinore',\n",
       "       'IRONMAN 70.3 Hawaii', 'IRONMAN 70.3 Boulder',\n",
       "       'IRONMAN 70.3 Cascais Portugal', 'IRONMAN 70.3 Dubai',\n",
       "       'IRONMAN 70.3 Nice', 'IRONMAN 70.3 Lanzarote',\n",
       "       \"IRONMAN 70.3 Pays D'Aix\", 'IRONMAN 70.3 San Juan',\n",
       "       'IRONMAN 70.3 Switzerland', 'IRONMAN 70.3 European Championship',\n",
       "       'IRONMAN 70.3 Salzburg / Zell am See', 'IRONMAN 70.3 Muncie',\n",
       "       'IRONMAN 70.3 Asia-Pacific / Auckland', 'IRONMAN 70.3 Philippines',\n",
       "       'IRONMAN 70.3 Middle East Championship Bahrain',\n",
       "       'IRONMAN 70.3 Gdynia', 'IRONMAN 70.3 Davao Philippines',\n",
       "       \"IRONMAN 70.3 Les Sables d'Olonne\", 'IRONMAN 70.3 Oman',\n",
       "       'IRONMAN 70.3 Subic Bay', 'IRONMAN 70.3 Muskoka',\n",
       "       'IRONMAN 70.3 Turkey', 'IRONMAN 70.3 Durban',\n",
       "       'IRONMAN 70.3 Vietnam',\n",
       "       'IRONMAN 70.3 Asia-Pacific Championship Philippines',\n",
       "       'IRONMAN 70.3 European Championship Wiesbaden',\n",
       "       'IRONMAN 70.3 Calgary', 'IRONMAN 70.3 Thailand',\n",
       "       'IRONMAN 70.3 Bintan', 'IRONMAN 70.3 Hefei',\n",
       "       'IRONMAN 70.3 Chungju', 'IRONMAN 70.3 Costa Rica',\n",
       "       'IRONMAN 70.3 Haugesund / Norway', 'IRONMAN 70.3 Steelhead',\n",
       "       'IRONMAN 70.3 Edinburgh', 'IRONMAN 70.3 Colombo',\n",
       "       'IRONMAN 70.3 Xiamen', 'IRONMAN 70.3 Staffordshire',\n",
       "       'IRONMAN 70.3 Astana', 'IRONMAN 70.3 Italy',\n",
       "       'IRONMAN 70.3 Cozumel', 'IRONMAN 70.3 Edinburg',\n",
       "       'IRONMAN 70.3 Slovenian Istria', 'IRONMAN 70.3 Shanghai',\n",
       "       'IRONMAN 70.3 Bahrain', 'IRONMAN 70.3 Finland',\n",
       "       'IRONMAN 70.3 Rhode Island', 'IRONMAN 70.3 Asia-Pacific',\n",
       "       'IRONMAN 70.3 Florida', 'IRONMAN 70.3 Port Macquarie',\n",
       "       'IRONMAN 70.3 Sri Lanka', 'IRONMAN 70.3 Japan',\n",
       "       'IRONMAN 70.3 Mont-Tremblant', 'IRONMAN 70.3 Boise',\n",
       "       'IRONMAN 70.3 Busselton', 'IRONMAN 70.3 Eagleman',\n",
       "       'IRONMAN 70.3 Luxembourg', 'IRONMAN 70.3 Miami',\n",
       "       'IRONMAN 70.3 New Orleans', 'IRONMAN 70.3 Syracuse',\n",
       "       'IRONMAN 70.3 Silverman', 'IRONMAN 70.3 Mandurah',\n",
       "       'IRONMAN 70.3 Timberman', 'IRONMAN 70.3 Laguna Phuket',\n",
       "       'IRONMAN 70.3 Sunshine Coast', 'IRONMAN 70.3 Atlantic City',\n",
       "       'IRONMAN 70.3 Ohio', 'IRONMAN 70.3 Virginia',\n",
       "       'IRONMAN 70.3 Superfrog', 'IRONMAN 70.3 Taupo',\n",
       "       'IRONMAN 70.3 South Africa', 'IRONMAN 70.3 Oceanside California',\n",
       "       'IRONMAN 70.3 Raleigh', 'IRONMAN 70.3 Austria / St. Polten',\n",
       "       'IRONMAN 70.3 Oceanside', 'IRONMAN 70.3 St. George',\n",
       "       'IRONMAN 70.3 Canberra', 'IRONMAN 70.3 Augusta',\n",
       "       'IRONMAN 70.3 Lake Placid', 'IRONMAN 70.3 Kraichgau',\n",
       "       'IRONMAN 70.3 Arizona', 'IRONMAN 70.3 Canada',\n",
       "       'IRONMAN 70.3 Santa Rosa',\n",
       "       'IRONMAN 70.3 Pan American Pro Championship Panama',\n",
       "       'IRONMAN 70.3 Subic Bay Philippines', 'IRONMAN 70.3 Maine',\n",
       "       'IRONMAN 70.3 Emilia Romagna',\n",
       "       'IRONMAN 70.3 San Juan / Puerto Rico', 'IRONMAN 70.3 Buenos Aires',\n",
       "       'IRONMAN 70.3 Rio de Janeiro', 'IRONMAN 70.3 Gulf Coast',\n",
       "       'IRONMAN 70.3 Panama', 'IRONMAN 70.3 Brazil',\n",
       "       'IRONMAN 70.3 California', 'IRONMAN 70.3 Kansas',\n",
       "       'IRONMAN 70.3 Racine', 'IRONMAN 70.3 Bangsaen',\n",
       "       'IRONMAN 70.3 Indian Wells La Quinta', 'IRONMAN 70.3 Waco',\n",
       "       'IRONMAN 70.3 North Carolina', 'IRONMAN 70.3 Pucon',\n",
       "       'IRONMAN 70.3 Yeppoon', 'IRONMAN 70.3 Austin',\n",
       "       'IRONMAN 70.3 Zell am See Kaprun',\n",
       "       'IRONMAN 70.3 Western Australia', 'IRONMAN 70.3 Los Cabos',\n",
       "       'IRONMAN 70.3 Sao Paulo', 'IRONMAN 70.3 Campeche',\n",
       "       'IRONMAN 70.3 Western Sydney', 'IRONMAN 70.3 New Zealand',\n",
       "       'IRONMAN 70.3 Alagoas', 'IRONMAN 70.3 Fortaleza',\n",
       "       'IRONMAN 70.3 Geelong', 'IRONMAN 70.3 Ecuador',\n",
       "       'IRONMAN 70.3 Connecticut', 'IRONMAN 70.3 Coquimbo',\n",
       "       'IRONMAN 70.3 Foz do IguaÃ§u', 'IRONMAN 70.3 Chattanooga',\n",
       "       'IRONMAN 70.3 Brazil Paraguay',\n",
       "       'IRONMAN 70.3 North American Pro Championship St. George',\n",
       "       'IRONMAN 70.3 St. Croix', 'IRONMAN 70.3 Zell am See-Kaprun',\n",
       "       'IRONMAN 70.3 South American Championship Palmas',\n",
       "       'IRONMAN 70.3 Pula', 'IRONMAN 70.3 Monterrey',\n",
       "       'IRONMAN 70.3 Cairns', 'IRONMAN 70.3 Ruegen',\n",
       "       'IRONMAN 70.3 Weymouth', 'IRONMAN 70.3 Peru',\n",
       "       'IRONMAN 70.3 Palmas',\n",
       "       'IRONMAN 70.3 Asia-Pacific Championship Western Sydney',\n",
       "       'IRONMAN 70.3 Buffalo Springs Lake', 'IRONMAN 70.3 Jonkoping',\n",
       "       'IRONMAN 70.3 Dun Laoghaire', 'IRONMAN 70.3 Florianopolis',\n",
       "       'IRONMAN 70.3 Maceio', 'IRONMAN 70.3 Langkawi',\n",
       "       'IRONMAN 70.3 Greece Costa Navarino', 'IRONMAN Oceanside',\n",
       "       'IRONMAN 70.3 Lake Stevens', 'IRONMAN 70.3 Vineman',\n",
       "       'IRONMAN 70.3 Cancun', 'IRONMAN 70.3 Singapore',\n",
       "       'IRONMAN 70.3 Zell am See', 'IRONMAN 70.3 Galway',\n",
       "       'IRONMAN 70.3 Putrajaya', 'IRONMAN 70.3 Princeton',\n",
       "       'IRONMAN 70.3 Kronborg',\n",
       "       'IRONMAN 70.3 Luxembourg - RÃ©gion Moselle', 'IRONMAN 70.3 Goa',\n",
       "       'IRONMAN 70.3 Korea', 'IRONMAN 70.3 Busan', 'IRONMAN 70.3 Qujing',\n",
       "       'IRONMAN 70.3 Asia-Pacific Championship', 'IRONMAN 70.3 Branson',\n",
       "       'IRONMAN 70.3 Haugesund', 'IRONMAN 70.3 Aarhus',\n",
       "       'IRONMAN 70.3 Berlin', 'IRONMAN 70.3 Goseong',\n",
       "       'IRONMAN 70.3 Lubbock', 'IRONMAN 70.3 Traverse City',\n",
       "       'IRONMAN 70.3 Incheon Korea', 'IRONMAN 70.3 Ballarat',\n",
       "       'IRONMAN 70.3 Saipan', 'IRONMAN Triathlon Kohala Coast',\n",
       "       'IRONMAN 70.3 Mooseman', 'IRONMAN 70.3 China',\n",
       "       'IRONMAN 70.3 Shepparton', 'IRONMAN 70.3 Pocono Mountains',\n",
       "       'IRONMAN Lake Tahoe', 'IRONMAN 70.3 Tallinn',\n",
       "       'IRONMAN 70.3 Otepaa', 'IRONMAN 70.3 Jeju'], dtype=object)"
      ]
     },
     "execution_count": 99,
     "metadata": {},
     "output_type": "execute_result"
    }
   ],
   "source": [
    "# how to add the country of the race\n",
    "events"
   ]
  },
  {
   "cell_type": "markdown",
   "id": "620ef11b-c27d-4ef0-9ef9-4a77bb728d8d",
   "metadata": {},
   "source": [
    "It is not trivial to determine the country where the event took place because\n",
    "- some events change location (like the European Champeonship)\n",
    "- some events take place in more than one country (Brazil/Paraguay)\n",
    "- "
   ]
  }
 ],
 "metadata": {
  "kernelspec": {
   "display_name": "Python 3 (ipykernel)",
   "language": "python",
   "name": "python3"
  },
  "language_info": {
   "codemirror_mode": {
    "name": "ipython",
    "version": 3
   },
   "file_extension": ".py",
   "mimetype": "text/x-python",
   "name": "python",
   "nbconvert_exporter": "python",
   "pygments_lexer": "ipython3",
   "version": "3.11.3"
  }
 },
 "nbformat": 4,
 "nbformat_minor": 5
}
