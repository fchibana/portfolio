{
 "cells": [
  {
   "cell_type": "code",
   "execution_count": null,
   "metadata": {
    "tags": []
   },
   "outputs": [],
   "source": [
    "import folium\n",
    "import hvplot.pandas\n",
    "import panel as pn\n",
    "from bokeh.plotting import figure\n",
    "\n",
    "import garmin_viz\n",
    "\n",
    "pn.extension(\"tabulator\")"
   ]
  },
  {
   "cell_type": "code",
   "execution_count": null,
   "metadata": {},
   "outputs": [],
   "source": [
    "# load gpx data into a DataFrame\n",
    "activity_name, df_raw = garmin_viz.load_activity(\"data/activity_9966616577.gpx\")\n",
    "# df_raw.head()"
   ]
  },
  {
   "cell_type": "code",
   "execution_count": null,
   "metadata": {},
   "outputs": [],
   "source": [
    "# data engineering: \n",
    "df = garmin_viz.extend_dataframe(df_raw)\n",
    "# df.head()"
   ]
  },
  {
   "cell_type": "code",
   "execution_count": null,
   "metadata": {},
   "outputs": [],
   "source": [
    "# preprocessing\n",
    "df_clean = garmin_viz.remove_stop_segments(df)\n",
    "# df_clean.describe()"
   ]
  },
  {
   "cell_type": "code",
   "execution_count": null,
   "metadata": {},
   "outputs": [],
   "source": [
    "# Compute some statistics\n",
    "\n",
    "# TODO: Date and time\n",
    "date = df_clean[\"time\"].iloc[0]\n",
    "\n",
    "# Total distance\n",
    "d_tot = df_clean[\"distance_2d\"].iloc[-1] # in meters\n",
    "d_tot /= 1000.0  # in km\n",
    "\n",
    "# Elapsed time\n",
    "t = df_clean[\"time\"].iloc[-1] - df_clean[\"time\"].iloc[0]\n",
    "s = t.seconds\n",
    "hours, remainder = divmod(s, 3600)\n",
    "minutes, seconds = divmod(remainder, 60)\n",
    "elapsed_time = f\"{int(hours)}:{int(minutes)}:{int(seconds)}\"\n",
    "\n",
    "# Pace\n",
    "# convert from second per meter to minutes per km\n",
    "avg_pace = df_clean[\"pace\"].mean() * (1000.0 / 60.0)  # min/km\n",
    "avg_pace_str = garmin_viz.convert_pace_to_str(avg_pace)  # strava: 5:24 /km\n",
    "\n",
    "# Heart rate (beats per minute)\n",
    "avg_hr = round(df_clean[\"hr\"].mean())  # strava: 168 bpm\n",
    "\n",
    "# Cadence (steps per minute)\n",
    "avg_cadence = round(df_clean[\"cadence\"].mean())  # strava: 172 spm\n",
    "\n",
    "\n",
    "# Messages for the dashboard\n",
    "date_msg = date.strftime(\"%b %d, %Y at %H:%M\")\n",
    "total_distance_msg = f\"Total distance: {d_tot:.1f} km\"\n",
    "elapsed_time_msg = f\"Elapsed time: {elapsed_time}\"\n",
    "avg_pace_msg = f\"Pace: {avg_pace_str} / km\"\n",
    "avg_hr_msg = f\"Heart rate: {avg_hr} bpm\"\n",
    "avg_cadence_msg = f\"Cadence: {avg_cadence} spm\"\n",
    "\n",
    "# Test\n",
    "# print(total_distance_msg)\n",
    "# print(elapsed_time_msg)\n",
    "# print(avg_pace_msg)\n",
    "# print(avg_hr_msg)\n",
    "# print(avg_cadence_msg)\n"
   ]
  },
  {
   "attachments": {},
   "cell_type": "markdown",
   "metadata": {},
   "source": [
    "Dashboard"
   ]
  },
  {
   "cell_type": "code",
   "execution_count": null,
   "metadata": {},
   "outputs": [],
   "source": [
    "stats_msg = f\"\"\"\n",
    "# {date_msg} \n",
    "\n",
    "# Statistics\n",
    "\n",
    "\n",
    "### Total distance: *{d_tot:.1f} km*\n",
    "\n",
    "### Elapsed time: *{elapsed_time}*\n",
    "\n",
    "### Pace: *{avg_pace_str} / km*\n",
    "\n",
    "### Heart rate: *{avg_hr} bpm*\n",
    "\n",
    "\n",
    "### Cadence: *{avg_cadence} spm*\n",
    "\"\"\"\n",
    "# stats_msg"
   ]
  },
  {
   "cell_type": "code",
   "execution_count": null,
   "metadata": {},
   "outputs": [],
   "source": [
    "# display course on map\n",
    "centroid = (df_clean[\"latitude\"].mean(), df_clean[\"longitude\"].mean())\n",
    "course_map = folium.Map(location=centroid, zoom_start=12)\n",
    "folium.PolyLine(\n",
    "    df_clean[[\"latitude\", \"longitude\"]],\n",
    "    color=\"#fc4c02\").add_to(course_map);\n",
    "# pn.panel(course_map, height=400)"
   ]
  },
  {
   "cell_type": "code",
   "execution_count": null,
   "metadata": {},
   "outputs": [],
   "source": [
    "# bin data into 1km laps\n",
    "split_1k = garmin_viz.bin_data(df_clean, 1.0)\n",
    "# split_1k.head()"
   ]
  },
  {
   "cell_type": "code",
   "execution_count": null,
   "metadata": {},
   "outputs": [],
   "source": [
    "split_pipeline = split_1k.set_index(\"lap\").interactive()"
   ]
  },
  {
   "cell_type": "code",
   "execution_count": null,
   "metadata": {},
   "outputs": [],
   "source": [
    "# split plot\n",
    "# yaxis_split_plot = pn.widgets.MultiChoice(\n",
    "#     name='MultiSelect', value=[\"pace\"], options=[\"pace\", \"cadence\", \"hr\"]\n",
    "# )\n",
    "# split_plot = split_pipeline.hvplot(x = 'lap', y=yaxis_split_plot,line_width=2, title=\"Lap\")"
   ]
  },
  {
   "cell_type": "code",
   "execution_count": null,
   "metadata": {},
   "outputs": [],
   "source": [
    "# pretty_pace_plot = garmin_viz.pretty_pace_plot(split_1k[\"lap\"], split_1k[\"pace_float\"])"
   ]
  },
  {
   "cell_type": "code",
   "execution_count": null,
   "metadata": {},
   "outputs": [],
   "source": [
    "p1 = figure(height=300, width=1300, sizing_mode='stretch_width')\n",
    "p2 = figure(height=300, width=1300, sizing_mode='stretch_width')\n",
    "p3 = figure(height=300, width=1300, sizing_mode='stretch_width')\n",
    "\n",
    "\n",
    "p1.line(split_1k[\"lap\"], split_1k[\"pace_float\"])\n",
    "p1.dash(split_1k[\"lap\"], split_1k.shape[0] * [avg_pace])\n",
    "p2.line(split_1k[\"lap\"], split_1k[\"hr\"])\n",
    "p2.dash(split_1k[\"lap\"], split_1k.shape[0] * [avg_hr])\n",
    "p3.line(split_1k[\"lap\"], split_1k[\"cadence\"])\n",
    "p3.dash(split_1k[\"lap\"], split_1k.shape[0] * [avg_cadence])\n",
    "\n",
    "p1.yaxis.axis_label = \"pace [min/km]\"\n",
    "p2.yaxis.axis_label = \"hear rate [bpm]\"\n",
    "p3.yaxis.axis_label = \"cadence [spm]\"\n",
    "\n",
    "p3.xaxis.axis_label = \"lap (km)\""
   ]
  },
  {
   "cell_type": "code",
   "execution_count": null,
   "metadata": {},
   "outputs": [],
   "source": [
    "# split table\n",
    "split_table = split_pipeline[[\"pace\", \"hr\", \"cadence\"]].pipe(\n",
    "    pn.widgets.Tabulator, pagination=\"remote\", page_size=20, # sizing_mode=\"stretch_width\"\n",
    ")"
   ]
  },
  {
   "cell_type": "code",
   "execution_count": null,
   "metadata": {
    "tags": []
   },
   "outputs": [],
   "source": [
    "# dashboard\n",
    "template = pn.template.FastListTemplate(\n",
    "    title=activity_name,\n",
    "    sidebar=[pn.pane.Markdown(stats_msg)],\n",
    "    main=[\n",
    "        pn.Row(\n",
    "            split_table.panel(width=300),\n",
    "            pn.Column(pn.panel(course_map, height=600, width=1000))),\n",
    "        # pn.Row(yaxis_split_plot, split_plot.panel(width=1200)),\n",
    "        pn.Row(pn.Column(p1, p2, p3)),\n",
    "    ],\n",
    "    accent_base_color=\"#fc4c02\",\n",
    "    header_background=\"#fc4c02\",\n",
    ")\n",
    "\n",
    "# template.show()\n",
    "template.servable()\n"
   ]
  }
 ],
 "metadata": {
  "kernelspec": {
   "display_name": "Python 3 (ipykernel)",
   "language": "python",
   "name": "python3"
  },
  "language_info": {
   "codemirror_mode": {
    "name": "ipython",
    "version": 3
   },
   "file_extension": ".py",
   "mimetype": "text/x-python",
   "name": "python",
   "nbconvert_exporter": "python",
   "pygments_lexer": "ipython3",
   "version": "3.8.10"
  }
 },
 "nbformat": 4,
 "nbformat_minor": 4
}
